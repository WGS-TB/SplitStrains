{
 "cells": [
  {
   "cell_type": "code",
   "execution_count": 1,
   "metadata": {},
   "outputs": [],
   "source": [
    "import numpy as np\n",
    "import matplotlib.pyplot as plt\n",
    "from scipy import stats\n",
    "import seaborn as sns\n",
    "import sympy as sp\n",
    "from scipy.optimize import minimize, Bounds\n",
    "sns.set(style=\"darkgrid\")\n",
    "sns.set_context(\"paper\")\n",
    "from itertools import permutations\n",
    "from itertools import combinations \n",
    "from scipy.special import factorial\n",
    "\n",
    "from sympy import init_printing\n",
    "from sympy.abc import k, m, n, x\n",
    "init_printing()"
   ]
  },
  {
   "cell_type": "code",
   "execution_count": 2,
   "metadata": {},
   "outputs": [],
   "source": [
    "p, c1, c2, M_i, m_i = sp.symbols('p c1 c2 M_i m_i')\n",
    "e = sp.abc.epsilon"
   ]
  },
  {
   "cell_type": "markdown",
   "metadata": {},
   "source": [
    "## Single term log likelyhood for Multinomial distro "
   ]
  },
  {
   "cell_type": "code",
   "execution_count": 3,
   "metadata": {},
   "outputs": [
    {
     "data": {
      "image/png": "[encoded data removed]",
      "text/latex": [
       "$$M_{i} \\log{\\left (\\epsilon \\left(- p + 1\\right) + p \\left(- 3 \\epsilon + 1\\right) \\right )} + m_{i} \\log{\\left (\\epsilon p + \\left(- 3 \\epsilon + 1\\right) \\left(- p + 1\\right) \\right )} + \\left(c_{1} + c_{2}\\right) \\log{\\left (\\epsilon \\right )}$$"
      ],
      "text/plain": [
       "Mᵢ⋅log(ε⋅(-p + 1) + p⋅(-3⋅ε + 1)) + mᵢ⋅log(ε⋅p + (-3⋅ε + 1)⋅(-p + 1)) + (c₁ + \n",
       "c₂)⋅log(ε)"
      ]
     },
     "execution_count": 3,
     "metadata": {},
     "output_type": "execute_result"
    }
   ],
   "source": [
    "L = M_i*sp.log(p*(1 - 3*e) + (1-p)*e) + m_i*sp.log((1-p)*(1-3*e)+p*e) + (c1 + c2)*sp.log(e)\n",
    "L"
   ]
  },
  {
   "cell_type": "markdown",
   "metadata": {},
   "source": [
    "## Find $p$ s.t. log likelyhood is  maximized "
   ]
  },
  {
   "cell_type": "code",
   "execution_count": 4,
   "metadata": {},
   "outputs": [
    {
     "data": {
      "image/png": "[encoded data removed]",
      "text/latex": [
       "$$\\left [ \\frac{3 M_{i} \\epsilon - M_{i} + \\epsilon m_{i}}{4 M_{i} \\epsilon - M_{i} + 4 \\epsilon m_{i} - m_{i}}\\right ]$$"
      ],
      "text/plain": [
       "⎡    3⋅Mᵢ⋅ε - Mᵢ + ε⋅mᵢ   ⎤\n",
       "⎢─────────────────────────⎥\n",
       "⎣4⋅Mᵢ⋅ε - Mᵢ + 4⋅ε⋅mᵢ - mᵢ⎦"
      ]
     },
     "execution_count": 4,
     "metadata": {},
     "output_type": "execute_result"
    }
   ],
   "source": [
    "# differentiate w.r.t. p\n",
    "dL = sp.diff(L,p)\n",
    "# equate to zero and solve for p\n",
    "sol = sp.solve(dL, p)\n",
    "sol"
   ]
  },
  {
   "cell_type": "markdown",
   "metadata": {},
   "source": [
    "##  Algebraic solution for $\\epsilon$ is not tracktable"
   ]
  },
  {
   "cell_type": "code",
   "execution_count": null,
   "metadata": {},
   "outputs": [
    {
     "data": {
      "image/png": "[encoded data removed]",
      "text/latex": [
       "$$\\left [ \\frac{4 M_{i} p^{2} - 5 M_{i} p + M_{i} + 8 c_{1} p^{2} - 8 c_{1} p + c_{1} + 8 c_{2} p^{2} - 8 c_{2} p + c_{2} + 4 m_{i} p^{2} - 3 m_{i} p - \\sqrt{16 M_{i}^{2} p^{4} - 40 M_{i}^{2} p^{3} + 33 M_{i}^{2} p^{2} - 10 M_{i}^{2} p + M_{i}^{2} - 16 M_{i} c_{1} p^{3} + 28 M_{i} c_{1} p^{2} - 14 M_{i} c_{1} p + 2 M_{i} c_{1} - 16 M_{i} c_{2} p^{3} + 28 M_{i} c_{2} p^{2} - 14 M_{i} c_{2} p + 2 M_{i} c_{2} + 32 M_{i} m_{i} p^{4} - 64 M_{i} m_{i} p^{3} + 38 M_{i} m_{i} p^{2} - 6 M_{i} m_{i} p + 4 c_{1}^{2} p^{2} - 4 c_{1}^{2} p + c_{1}^{2} + 8 c_{1} c_{2} p^{2} - 8 c_{1} c_{2} p + 2 c_{1} c_{2} + 16 c_{1} m_{i} p^{3} - 20 c_{1} m_{i} p^{2} + 6 c_{1} m_{i} p + 4 c_{2}^{2} p^{2} - 4 c_{2}^{2} p + c_{2}^{2} + 16 c_{2} m_{i} p^{3} - 20 c_{2} m_{i} p^{2} + 6 c_{2} m_{i} p + 16 m_{i}^{2} p^{4} - 24 m_{i}^{2} p^{3} + 9 m_{i}^{2} p^{2}}}{2 \\left(16 M_{i} p^{2} - 16 M_{i} p + 3 M_{i} + 16 c_{1} p^{2} - 16 c_{1} p + 3 c_{1} + 16 c_{2} p^{2} - 16 c_{2} p + 3 c_{2} + 16 m_{i} p^{2} - 16 m_{i} p + 3 m_{i}\\right)}, \\quad \\frac{4 M_{i} p^{2} - 5 M_{i} p + M_{i} + 8 c_{1} p^{2} - 8 c_{1} p + c_{1} + 8 c_{2} p^{2} - 8 c_{2} p + c_{2} + 4 m_{i} p^{2} - 3 m_{i} p + \\sqrt{16 M_{i}^{2} p^{4} - 40 M_{i}^{2} p^{3} + 33 M_{i}^{2} p^{2} - 10 M_{i}^{2} p + M_{i}^{2} - 16 M_{i} c_{1} p^{3} + 28 M_{i} c_{1} p^{2} - 14 M_{i} c_{1} p + 2 M_{i} c_{1} - 16 M_{i} c_{2} p^{3} + 28 M_{i} c_{2} p^{2} - 14 M_{i} c_{2} p + 2 M_{i} c_{2} + 32 M_{i} m_{i} p^{4} - 64 M_{i} m_{i} p^{3} + 38 M_{i} m_{i} p^{2} - 6 M_{i} m_{i} p + 4 c_{1}^{2} p^{2} - 4 c_{1}^{2} p + c_{1}^{2} + 8 c_{1} c_{2} p^{2} - 8 c_{1} c_{2} p + 2 c_{1} c_{2} + 16 c_{1} m_{i} p^{3} - 20 c_{1} m_{i} p^{2} + 6 c_{1} m_{i} p + 4 c_{2}^{2} p^{2} - 4 c_{2}^{2} p + c_{2}^{2} + 16 c_{2} m_{i} p^{3} - 20 c_{2} m_{i} p^{2} + 6 c_{2} m_{i} p + 16 m_{i}^{2} p^{4} - 24 m_{i}^{2} p^{3} + 9 m_{i}^{2} p^{2}}}{2 \\left(16 M_{i} p^{2} - 16 M_{i} p + 3 M_{i} + 16 c_{1} p^{2} - 16 c_{1} p + 3 c_{1} + 16 c_{2} p^{2} - 16 c_{2} p + 3 c_{2} + 16 m_{i} p^{2} - 16 m_{i} p + 3 m_{i}\\right)}\\right ]$$"
      ],
      "text/plain": [
       "⎡                                                                             \n",
       "⎢      2                       2                       2                      \n",
       "⎢4⋅Mᵢ⋅p  - 5⋅Mᵢ⋅p + Mᵢ + 8⋅c₁⋅p  - 8⋅c₁⋅p + c₁ + 8⋅c₂⋅p  - 8⋅c₂⋅p + c₂ + 4⋅mᵢ⋅\n",
       "⎢─────────────────────────────────────────────────────────────────────────────\n",
       "⎢                                                                             \n",
       "⎣                                                                             \n",
       "\n",
       "                 _____________________________________________________________\n",
       " 2              ╱      2  4        2  3        2  2        2       2          \n",
       "p  - 3⋅mᵢ⋅p - ╲╱  16⋅Mᵢ ⋅p  - 40⋅Mᵢ ⋅p  + 33⋅Mᵢ ⋅p  - 10⋅Mᵢ ⋅p + Mᵢ  - 16⋅Mᵢ⋅c\n",
       "──────────────────────────────────────────────────────────────────────────────\n",
       "                                                                              \n",
       "                                                                              \n",
       "\n",
       "______________________________________________________________________________\n",
       "   3             2                                    3             2         \n",
       "₁⋅p  + 28⋅Mᵢ⋅c₁⋅p  - 14⋅Mᵢ⋅c₁⋅p + 2⋅Mᵢ⋅c₁ - 16⋅Mᵢ⋅c₂⋅p  + 28⋅Mᵢ⋅c₂⋅p  - 14⋅Mᵢ⋅\n",
       "──────────────────────────────────────────────────────────────────────────────\n",
       "                                           ⎛       2                          \n",
       "                                         2⋅⎝16⋅Mᵢ⋅p  - 16⋅Mᵢ⋅p + 3⋅Mᵢ + 16⋅c₁⋅\n",
       "\n",
       "______________________________________________________________________________\n",
       "                           4             3             2                   2  \n",
       "c₂⋅p + 2⋅Mᵢ⋅c₂ + 32⋅Mᵢ⋅mᵢ⋅p  - 64⋅Mᵢ⋅mᵢ⋅p  + 38⋅Mᵢ⋅mᵢ⋅p  - 6⋅Mᵢ⋅mᵢ⋅p + 4⋅c₁ ⋅p\n",
       "──────────────────────────────────────────────────────────────────────────────\n",
       " 2                           2                           2                 ⎞  \n",
       "p  - 16⋅c₁⋅p + 3⋅c₁ + 16⋅c₂⋅p  - 16⋅c₂⋅p + 3⋅c₂ + 16⋅mᵢ⋅p  - 16⋅mᵢ⋅p + 3⋅mᵢ⎠  \n",
       "\n",
       "______________________________________________________________________________\n",
       "2       2       2            2                                   3            \n",
       "  - 4⋅c₁ ⋅p + c₁  + 8⋅c₁⋅c₂⋅p  - 8⋅c₁⋅c₂⋅p + 2⋅c₁⋅c₂ + 16⋅c₁⋅mᵢ⋅p  - 20⋅c₁⋅mᵢ⋅\n",
       "──────────────────────────────────────────────────────────────────────────────\n",
       "                                                                              \n",
       "                                                                              \n",
       "\n",
       "______________________________________________________________________________\n",
       " 2                   2  2       2       2             3             2         \n",
       "p  + 6⋅c₁⋅mᵢ⋅p + 4⋅c₂ ⋅p  - 4⋅c₂ ⋅p + c₂  + 16⋅c₂⋅mᵢ⋅p  - 20⋅c₂⋅mᵢ⋅p  + 6⋅c₂⋅m\n",
       "──────────────────────────────────────────────────────────────────────────────\n",
       "                                                                              \n",
       "                                                                              \n",
       "\n",
       "_______________________________________                                       \n",
       "           2  4        2  3       2  2         2                       2      \n",
       "ᵢ⋅p + 16⋅mᵢ ⋅p  - 24⋅mᵢ ⋅p  + 9⋅mᵢ ⋅p    4⋅Mᵢ⋅p  - 5⋅Mᵢ⋅p + Mᵢ + 8⋅c₁⋅p  - 8⋅c\n",
       "───────────────────────────────────────, ─────────────────────────────────────\n",
       "                                                                              \n",
       "                                                                              \n",
       "\n",
       "                                                         _____________________\n",
       "                 2                       2              ╱      2  4        2  \n",
       "₁⋅p + c₁ + 8⋅c₂⋅p  - 8⋅c₂⋅p + c₂ + 4⋅mᵢ⋅p  - 3⋅mᵢ⋅p + ╲╱  16⋅Mᵢ ⋅p  - 40⋅Mᵢ ⋅p\n",
       "──────────────────────────────────────────────────────────────────────────────\n",
       "                                                                              \n",
       "                                                                              \n",
       "\n",
       "______________________________________________________________________________\n",
       "3        2  2        2       2             3             2                    \n",
       "  + 33⋅Mᵢ ⋅p  - 10⋅Mᵢ ⋅p + Mᵢ  - 16⋅Mᵢ⋅c₁⋅p  + 28⋅Mᵢ⋅c₁⋅p  - 14⋅Mᵢ⋅c₁⋅p + 2⋅Mᵢ\n",
       "──────────────────────────────────────────────────────────────────────────────\n",
       "                                                                              \n",
       "                                                                              \n",
       "\n",
       "______________________________________________________________________________\n",
       "                3             2                                    4          \n",
       "⋅c₁ - 16⋅Mᵢ⋅c₂⋅p  + 28⋅Mᵢ⋅c₂⋅p  - 14⋅Mᵢ⋅c₂⋅p + 2⋅Mᵢ⋅c₂ + 32⋅Mᵢ⋅mᵢ⋅p  - 64⋅Mᵢ⋅m\n",
       "──────────────────────────────────────────────────────────────────────────────\n",
       "     ⎛       2                           2                           2        \n",
       "   2⋅⎝16⋅Mᵢ⋅p  - 16⋅Mᵢ⋅p + 3⋅Mᵢ + 16⋅c₁⋅p  - 16⋅c₁⋅p + 3⋅c₁ + 16⋅c₂⋅p  - 16⋅c₂\n",
       "\n",
       "______________________________________________________________________________\n",
       "   3             2                   2  2       2       2            2        \n",
       "ᵢ⋅p  + 38⋅Mᵢ⋅mᵢ⋅p  - 6⋅Mᵢ⋅mᵢ⋅p + 4⋅c₁ ⋅p  - 4⋅c₁ ⋅p + c₁  + 8⋅c₁⋅c₂⋅p  - 8⋅c₁⋅\n",
       "──────────────────────────────────────────────────────────────────────────────\n",
       "                   2                 ⎞                                        \n",
       "⋅p + 3⋅c₂ + 16⋅mᵢ⋅p  - 16⋅mᵢ⋅p + 3⋅mᵢ⎠                                        \n",
       "\n",
       "______________________________________________________________________________\n",
       "                           3             2                   2  2       2     \n",
       "c₂⋅p + 2⋅c₁⋅c₂ + 16⋅c₁⋅mᵢ⋅p  - 20⋅c₁⋅mᵢ⋅p  + 6⋅c₁⋅mᵢ⋅p + 4⋅c₂ ⋅p  - 4⋅c₂ ⋅p + \n",
       "──────────────────────────────────────────────────────────────────────────────\n",
       "                                                                              \n",
       "                                                                              \n",
       "\n",
       "______________________________________________________________________________\n",
       "  2             3             2                    2  4        2  3       2  2\n",
       "c₂  + 16⋅c₂⋅mᵢ⋅p  - 20⋅c₂⋅mᵢ⋅p  + 6⋅c₂⋅mᵢ⋅p + 16⋅mᵢ ⋅p  - 24⋅mᵢ ⋅p  + 9⋅mᵢ ⋅p \n",
       "──────────────────────────────────────────────────────────────────────────────\n",
       "                                                                              \n",
       "                                                                              \n",
       "\n",
       "_⎤\n",
       " ⎥\n",
       " ⎥\n",
       "─⎥\n",
       " ⎥\n",
       " ⎦"
      ]
     },
     "execution_count": 5,
     "metadata": {},
     "output_type": "execute_result"
    }
   ],
   "source": [
    "# differentiate w.r.t. epsilon\n",
    "dL = sp.diff(L,e)\n",
    "# equate to zero and solve for epsilon\n",
    "sol = sp.solve(dL, e)\n",
    "sol"
   ]
  },
  {
   "cell_type": "markdown",
   "metadata": {},
   "source": [
    "## Alternative hypothesis categorical distribution"
   ]
  },
  {
   "cell_type": "code",
   "execution_count": null,
   "metadata": {},
   "outputs": [],
   "source": [
    "# from scipy.misc import factorial\n",
    "\n",
    "def multinom(p, e, major, minor, er1, er2, ignoreCoeff=False):\n",
    "    n = major + minor + er1 + er2\n",
    "    multinom_coef = factorial(n)/(factorial(major)*factorial(minor)*factorial(er1+er2))\n",
    "#     multinom_coef = factorial(n)/(factorial(major)*factorial(minor)*factorial(er1)*factorial(er2))\n",
    "\n",
    "    p_major = np.power(p*(1-3*e) + (1-p)*e, major)\n",
    "    p_minor = np.power((1-p)*(1-3*e) + p*e, minor)\n",
    "    p_error = np.power(e,er1+er2)\n",
    "    \n",
    "    if ignoreCoeff:\n",
    "        return p_major*p_minor*p_error\n",
    "    else:\n",
    "        return p_major*p_minor*p_error*multinom_coef"
   ]
  },
  {
   "cell_type": "markdown",
   "metadata": {},
   "source": [
    "## Sample dataset from alternative hypothesis distribution"
   ]
  },
  {
   "cell_type": "code",
   "execution_count": null,
   "metadata": {},
   "outputs": [
    {
     "name": "stdout",
     "output_type": "stream",
     "text": [
      "the total probability of all data points before normalization: 0.999990019985004\n"
     ]
    }
   ],
   "source": [
    "\"\"\" In this cell I sample points from the alternative hypothesis distribution\n",
    "with some fixed parameters p and epsilon \"\"\"\n",
    "\n",
    "sp.init_printing(pretty_print=False)\n",
    "\n",
    "p = 0.75\n",
    "e = 0.001\n",
    "\n",
    "# Generate sample space\n",
    "cat_5_perm = set(permutations([5,0,0,0]))\n",
    "cat_4_1_perm = set(permutations([4, 1, 0, 0]))\n",
    "cat_3_2_perm = set(permutations([3, 2, 0, 0]))\n",
    "cat_3_1_1_perm = set(permutations([3, 1, 1, 0]))\n",
    "cat_2_2_1_perm = set(permutations([2, 2, 1, 0]))\n",
    "cat_2_1_1_1_perm = set(permutations([2, 1, 1, 1]))\n",
    "\n",
    "# take all sets\n",
    "all_perms = [cat_5_perm, cat_4_1_perm, cat_3_2_perm, cat_3_1_1_perm, cat_2_2_1_perm, cat_2_1_1_1_perm]\n",
    "\n",
    "\n",
    "# iterate through each set and put all permutations into a list\n",
    "categorical_combinations = []\n",
    "for perm in all_perms:\n",
    "    for item in perm:\n",
    "        categorical_combinations.append(item)\n",
    "        \n",
    "# each integer represents a categorical combination \n",
    "ints = np.arange(0,len(categorical_combinations))    \n",
    "\n",
    "# build the discrete distribution for each data point\n",
    "distro = []\n",
    "for category in categorical_combinations:\n",
    "    distro.append(multinom(p, e, category[0], category[1], category[2], category[3]))\n",
    "\n",
    "# because of non zero epsilon the total probab is not 1, do normalization\n",
    "distro = np.array(distro)\n",
    "print('the total probability of all data points before normalization:', np.sum(distro))\n",
    "\n",
    "distro = distro/np.sum(distro)\n",
    "\n",
    "# generate data set\n",
    "data = []\n",
    "num_data_points = 200\n",
    "\n",
    "for i in range(0,num_data_points):\n",
    "    data.append(np.random.choice(a=ints, p=distro))\n",
    "\n",
    "# map integers to categorical combinations\n",
    "dataset = []\n",
    "for num in data:\n",
    "    lst = list(categorical_combinations[num])\n",
    "    dataset.append(lst)\n",
    "dataset = np.array(dataset)\n"
   ]
  },
  {
   "cell_type": "markdown",
   "metadata": {},
   "source": [
    "## Do numerical optimization to estimate $\\epsilon$ and $p$"
   ]
  },
  {
   "cell_type": "markdown",
   "metadata": {},
   "source": [
    "### Define objective functions"
   ]
  },
  {
   "cell_type": "code",
   "execution_count": null,
   "metadata": {},
   "outputs": [],
   "source": [
    "\"\"\" Define objective functions \"\"\"\n",
    "# objective function for error\n",
    "def obj_func_err(er, p, M, m, c_1, c_2):\n",
    "    res = -(M*np.log(p*(1 - 3*er) + (1-p)*er) + m*np.log((1-p)*(1-3*er)+p*er) + (c_1 + c_2)*np.log(er))\n",
    "    return np.sum(res)\n",
    "\n",
    "# objective function for p\n",
    "def obj_func_p(p, er, M, m, c_1, c_2):\n",
    "    res = -(M*np.log(p*(1 - 3*er) + (1-p)*er) + m*np.log((1-p)*(1-3*er)+p*er) + (c_1 + c_2)*np.log(er))\n",
    "    return np.sum(res)\n",
    "\n",
    "\n",
    "# iterative optimization\n",
    "def optimize(num_iter, init_p, init_err, M_i, m_i, c_1, c_2):\n",
    "    estimated_err = [init_err]\n",
    "    estimated_p = [init_p]\n",
    "    \n",
    "    p_bound = Bounds(0.5, 0.9)\n",
    "    e_bound = Bounds(1e-100, 0.2)\n",
    "    opts = {'disp':False, 'gtol':1e-100}\n",
    "    for i in range(num_iter):\n",
    "        # estimate proportion of a major strain given estimated error\n",
    "        res_p = minimize(obj_func_p, [initial_p], args = (estimated_err[i], M_i, m_i, c_1, c_2), method='TNC',bounds=p_bound, options=opts)\n",
    "        estimated_p.append(res_p.x[0])\n",
    "        # estimate error given proportion\n",
    "        res_err = minimize(obj_func_err, [init_err], args = (estimated_p[i], M_i, m_i, c_1, c_2), method='TNC', bounds=e_bound, options=opts)\n",
    "        estimated_err.append(res_err.x[0])\n",
    "    return [estimated_p, estimated_err]"
   ]
  },
  {
   "cell_type": "markdown",
   "metadata": {},
   "source": [
    "### Run optimization on a sampled dataset"
   ]
  },
  {
   "cell_type": "code",
   "execution_count": null,
   "metadata": {},
   "outputs": [
    {
     "name": "stdout",
     "output_type": "stream",
     "text": [
      "data points generated: 200\n",
      "actual error 0.001 , estimated error:  1e-100\n",
      "actual proportion 0.75 , estimated proportion of Major:  0.7619999979927098\n",
      "abs error for epsilon 0.001\n"
     ]
    },
    {
     "data": {
      "image/png": "[encoded data removed]",
      "text/plain": [
       "<Figure size 864x576 with 2 Axes>"
      ]
     },
     "metadata": {
      "needs_background": "light"
     },
     "output_type": "display_data"
    }
   ],
   "source": [
    "initial_err = 0.001\n",
    "initial_p = 0.6\n",
    "\n",
    "\n",
    "M_i = dataset[:,0]\n",
    "m_i = dataset[:,1]\n",
    "c_1 = dataset[:,2]\n",
    "c_2 = dataset[:,3]\n",
    "num_iter = 10\n",
    "\n",
    "estimated_p, estimated_err = optimize(num_iter, initial_p, initial_err, M_i, m_i, c_1, c_2)\n",
    "\n",
    "def plotConvergence(num_data_points, estimated_p, estimated_err, p, e):\n",
    "    print('data points generated:',num_data_points)\n",
    "    print('actual error', e, ', estimated error: ', estimated_err[-1])\n",
    "    print('actual proportion',p, ', estimated proportion of Major: ', estimated_p[-1])\n",
    "    print('abs error for epsilon', abs(e - estimated_err[-1]))\n",
    "    plt.figure(figsize=(12,8))\n",
    "    plt.subplot(211)\n",
    "    plt.title('Converges of p')\n",
    "    plt.plot(np.arange(len(estimated_p)),estimated_p)\n",
    "\n",
    "    plt.subplot(212)\n",
    "    plt.title('Converges of error')\n",
    "    plt.plot(np.arange(len(estimated_err)), estimated_err)\n",
    "    \n",
    "plotConvergence(num_data_points, estimated_p, estimated_err, p, e)"
   ]
  },
  {
   "cell_type": "markdown",
   "metadata": {},
   "source": [
    "##  Run likelihood ratio"
   ]
  },
  {
   "cell_type": "code",
   "execution_count": null,
   "metadata": {
    "scrolled": true
   },
   "outputs": [
    {
     "name": "stdout",
     "output_type": "stream",
     "text": [
      "we are under hypothesis 1\n",
      "### null hypo error estimate: 0.005802320928371348\n",
      "### alt hypo error estimate: 1e-100\n",
      "### alt hypo p estimate: 0.9\n",
      "\n",
      "\n",
      "### null hypothesis likelihood: -178.08154280804837\n",
      "### alter hypothesis likelihood: -239.25013182868895\n",
      "### log ratio: -122.33717804128116 ratio: 3.674351309988198e+26 treshold: 599.1464547107979\n",
      "### Result: single strain\n",
      "data points generated: 20\n",
      "actual error -1 , estimated error:  1e-100\n",
      "actual proportion 0.982593037214886 , estimated proportion of Major:  0.9\n",
      "abs error for epsilon 1.0\n"
     ]
    },
    {
     "data": {
      "image/png": "[encoded data removed]",
      "text/plain": [
       "<Figure size 864x576 with 2 Axes>"
      ]
     },
     "metadata": {
      "needs_background": "light"
     },
     "output_type": "display_data"
    }
   ],
   "source": [
    "hypo = 1\n",
    "print('we are under hypothesis', hypo)\n",
    "# one strain\n",
    "num_points = 20\n",
    "\n",
    "if hypo == 1:\n",
    "    major = np.random.randint(75,90,num_points, int)\n",
    "    minor = np.random.randint(1,3, num_points, int)\n",
    "    # count other chars\n",
    "    error1 = np.zeros(num_points)\n",
    "    error2 = np.zeros(num_points)\n",
    "    errors =  minor + error1 + error2\n",
    "    \n",
    "# two strains\n",
    "elif hypo == 2:\n",
    "    major = np.random.randint(75,90,num_points, int)\n",
    "    minor = np.random.randint(20,30, num_points, int)\n",
    "    error1 = np.zeros(num_points)\n",
    "    error2 = np.zeros(num_points)\n",
    "\n",
    "# one strain\n",
    "elif hypo == 3:\n",
    "    major = np.array([80, 85, 89, 99, 98, 100, 90, 101, 96, 80, 70, 80])   # count of Major\n",
    "    minor = np.array([20, 20, 10, 5, 2, 1, 1, 1, 1, 1, 1, 0])      # count of Minor\n",
    "    # count other chars\n",
    "    error1 = np.array([0, 0, 0, 0, 0, 0, 0, 0, 0, 0, 1,1])\n",
    "    error2 = np.array([0, 0, 0, 0, 0, 0, 0, 0, 0, 0, 0, 0])\n",
    "    \n",
    "local_n = major + minor + error1 + error2\n",
    "actual_major_prop = np.sum(major)/np.sum(local_n)\n",
    "\n",
    "\n",
    "# estimate error for null hypo\n",
    "null_err = np.sum(local_n - major) / (3*np.sum(local_n))\n",
    "print('### null hypo error estimate:', null_err)\n",
    "\n",
    "# likelihood null hypo\n",
    "errors = error1 + error2 + minor\n",
    "null_hypo = np.sum(np.log(np.power(null_err, errors))) + np.sum(np.log(np.power((1 - 3*null_err), major)))\n",
    "\n",
    "# estimate error and probability of major for alternative hypo\n",
    "estimated_p, estimated_err = optimize(30, 0.7, 0.01, major, minor, error1, error2)\n",
    "alt_p = estimated_p[-1]\n",
    "alt_err = estimated_err[-1]\n",
    "print('### alt hypo error estimate:', alt_err)\n",
    "print('### alt hypo p estimate:', alt_p)\n",
    "print('\\n')\n",
    "\n",
    "\n",
    "# compute alternative hypothesis likelihood\n",
    "alt_hypo = np.sum(np.log(multinom(alt_p, alt_err, major, minor, error1, error2, True)))\n",
    "print('### null hypothesis likelihood:', null_hypo)\n",
    "print('### alter hypothesis likelihood:', alt_hypo)\n",
    "\n",
    "# Pearson chi2 test\n",
    "from scipy.stats import chi2\n",
    "# we test under null hypothesis\n",
    "df = 2\n",
    "alpha = 0.95\n",
    "critical = chi2.ppf(alpha, df, loc=0, scale=100)\n",
    "log_ratio = -2*(null_hypo - alt_hypo)\n",
    "ratio = np.exp(-log_ratio/2)\n",
    "tresh = critical\n",
    "print('### log ratio:', log_ratio, 'ratio:', ratio, 'treshold:', tresh)\n",
    "if  log_ratio < tresh:\n",
    "    print('### Result: single strain')\n",
    "else:\n",
    "    print('### Result: two strains')\n",
    "\n",
    "plotConvergence(len(major), estimated_p, estimated_err, actual_major_prop, -1)"
   ]
  },
  {
   "cell_type": "markdown",
   "metadata": {},
   "source": [
    "### Chi2 distro"
   ]
  },
  {
   "cell_type": "code",
   "execution_count": null,
   "metadata": {
    "scrolled": true
   },
   "outputs": [
    {
     "data": {
      "image/png": "[encoded data removed]",
      "text/plain": [
       "<Figure size 720x360 with 1 Axes>"
      ]
     },
     "metadata": {
      "needs_background": "light"
     },
     "output_type": "display_data"
    }
   ],
   "source": [
    "plt.figure(figsize=(10,5))\n",
    "deg_f = 2\n",
    "x = np.arange(100)\n",
    "plt.plot(x, chi2.pdf(x, deg_f, scale=100, loc= 0), 'r-', lw=2, alpha=0.6, label='chi2 pdf')\n",
    "plt.show()"
   ]
  },
  {
   "cell_type": "markdown",
   "metadata": {},
   "source": [
    "## split error based on SNP"
   ]
  },
  {
   "cell_type": "code",
   "execution_count": null,
   "metadata": {},
   "outputs": [
    {
     "name": "stdout",
     "output_type": "stream",
     "text": [
      "/home/user1/Documents/lab/DrugResistance/splitStrains\n",
      "number of intoruced SNPs by alt_ref: 80 . Make sure to check this value.\n",
      "# of differences between alt ref and original ref: 80\n",
      "# of differences between consensus and alt ref: 114\n",
      "# of introduced SNPs that were not resolved by splitStrains.py: 48\n",
      "# of differences between alt ref and original ref: 80\n",
      "# of differences between consensus and alt ref: 54\n",
      "# of introduced SNPs that were not resolved by splitStrains.py: 12\n",
      "# of differences between alt ref and original ref: 80\n",
      "# of differences between consensus and alt ref: 2\n",
      "# of introduced SNPs that were not resolved by splitStrains.py: 1\n",
      "# of differences between alt ref and original ref: 80\n",
      "# of differences between consensus and alt ref: 1\n",
      "# of introduced SNPs that were not resolved by splitStrains.py: 1\n",
      "# of differences between alt ref and original ref: 80\n",
      "# of differences between consensus and alt ref: 1\n",
      "# of introduced SNPs that were not resolved by splitStrains.py: 1\n",
      "# of differences between alt ref and original ref: 80\n",
      "# of differences between consensus and alt ref: 1\n",
      "# of introduced SNPs that were not resolved by splitStrains.py: 1\n",
      "# of differences between alt ref and original ref: 80\n",
      "# of differences between consensus and alt ref: 1\n",
      "# of introduced SNPs that were not resolved by splitStrains.py: 1\n",
      "# of differences between alt ref and original ref: 80\n",
      "# of differences between consensus and alt ref: 1\n",
      "# of introduced SNPs that were not resolved by splitStrains.py: 1\n",
      "# of differences between alt ref and original ref: 80\n",
      "# of differences between consensus and alt ref: 1\n",
      "# of introduced SNPs that were not resolved by splitStrains.py: 1\n",
      "# of differences between alt ref and original ref: 80\n",
      "# of differences between consensus and alt ref: 82\n",
      "# of introduced SNPs that were not resolved by splitStrains.py: 35\n",
      "# of differences between alt ref and original ref: 80\n",
      "# of differences between consensus and alt ref: 21\n",
      "# of introduced SNPs that were not resolved by splitStrains.py: 10\n",
      "# of differences between alt ref and original ref: 80\n",
      "# of differences between consensus and alt ref: 29\n",
      "# of introduced SNPs that were not resolved by splitStrains.py: 1\n",
      "# of differences between alt ref and original ref: 80\n",
      "# of differences between consensus and alt ref: 32\n",
      "# of introduced SNPs that were not resolved by splitStrains.py: 0\n",
      "# of differences between alt ref and original ref: 80\n",
      "# of differences between consensus and alt ref: 30\n",
      "# of introduced SNPs that were not resolved by splitStrains.py: 0\n",
      "# of differences between alt ref and original ref: 80\n",
      "# of differences between consensus and alt ref: 35\n",
      "# of introduced SNPs that were not resolved by splitStrains.py: 0\n",
      "# of differences between alt ref and original ref: 80\n",
      "# of differences between consensus and alt ref: 40\n",
      "# of introduced SNPs that were not resolved by splitStrains.py: 0\n"
     ]
    }
   ],
   "source": [
    "%cd /home/user1/Documents/lab/DrugResistance/splitStrains/\n",
    "%pwd\n",
    "%run graphSplitError.py"
   ]
  },
  {
   "cell_type": "code",
   "execution_count": null,
   "metadata": {},
   "outputs": [],
   "source": []
  }
 ],
 "metadata": {
  "kernelspec": {
   "display_name": "Python 3",
   "language": "python",
   "name": "python3"
  },
  "language_info": {
   "codemirror_mode": {
    "name": "ipython",
    "version": 3
   },
   "file_extension": ".py",
   "mimetype": "text/x-python",
   "name": "python",
   "nbconvert_exporter": "python",
   "pygments_lexer": "ipython3",
   "version": "3.6.9"
  }
 },
 "nbformat": 4,
 "nbformat_minor": 2
}
